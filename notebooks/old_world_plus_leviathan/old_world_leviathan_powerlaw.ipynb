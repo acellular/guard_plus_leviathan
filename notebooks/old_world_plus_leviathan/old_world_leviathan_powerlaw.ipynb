{
 "cells": [
  {
   "cell_type": "markdown",
   "metadata": {},
   "source": [
    "# Old World + Leviathan\n",
    "\n"
   ]
  },
  {
   "cell_type": "code",
   "execution_count": 1,
   "metadata": {},
   "outputs": [],
   "source": [
    "# Add the project base directory to the path\n",
    "import os\n",
    "import sys\n",
    "project_dir = os.path.abspath('../../')\n",
    "sys.path.insert(0, project_dir)\n",
    "# Import GUARD\n",
    "from guard import World, analysis, default_parameters\n",
    "import copy"
   ]
  },
  {
   "cell_type": "code",
   "execution_count": 2,
   "metadata": {},
   "outputs": [],
   "source": [
    "def simulation(world, n_sim):\n",
    "    imperial_density = []\n",
    "    \n",
    "    for sim in range(n_sim):\n",
    "        world.reset()\n",
    "        imperial_density.append(analysis.ImperialDensity(world))\n",
    "        for step in range(1500):\n",
    "            world.step()\n",
    "            imperial_density[sim].sample()\n",
    "            if (world.step_number)%500 == 0:\n",
    "                print('simulation: {:2d}\\tstep: {:4d}'.format(sim+1,world.step_number))\n",
    "                #analysis.plot_ultrasocietal_traits(world)\n",
    "                #analysis.plot_polities(world)\n",
    "                #LEVIATHAN\n",
    "                #analysis.plot_yields(world)\n",
    "                #analysis.plot_depletion(world)\n",
    "                #analysis.plot_comfort(world)\n",
    "                #analysis.plot_expectations(world)\n",
    "                #analysis.plot_paradigms(world)\n",
    "        max_polity_sizes = world.end()#FOR POWERLAW TRACKING\n",
    "            \n",
    "    return max_polity_sizes"
   ]
  },
  {
   "cell_type": "markdown",
   "metadata": {
    "tags": []
   },
   "source": [
    "### Old World with Leviathan model added -- Power law testing\n",
    "To the Old World simulation of ultrasociety traits and the spread of military tech, Leviathan adds simple simulation of basic agriculture and soil depletion/regeneration according to land use rules held in paradigms that spread from community to community based on expectations that are themselves based on the feedback from communities already using that paradigm (akin to the feedback in the \"structuring structures\" of Bourdieu's habitus).\n",
    "\n",
    "Communities become more or less comfortable according to the yields returned through paradigm rules and current soil depletion, with communities of higher ultrasociety needing higher yields to remain comfortable. When uncomfortable, communities mutate a new paradigm with randomized rules added or adopt a paradigm followed by their neighbours. Paradigms also spread (like ultrasociety traits in the original model) on \"ethnocide\".\n",
    "\n",
    "Power law testing is the basic test (though not sufficient) of self-organized criticality (Bak, Tang and Wiesenfeld, 1987, 1988), wherein the system self-organizes towards a critical state (phase transition), like in the cascading evolution of avalanches, stock markets and even wars (Roberts and Turcotte, 1998)."
   ]
  },
  {
   "cell_type": "code",
   "execution_count": 3,
   "metadata": {},
   "outputs": [
    {
     "name": "stdout",
     "output_type": "stream",
     "text": [
      "simulation:  1\tstep:  500\n",
      "simulation:  1\tstep: 1000\n",
      "simulation:  1\tstep: 1500\n"
     ]
    }
   ],
   "source": [
    "params = copy.deepcopy(default_parameters)\n",
    "\n",
    "params = params._replace(spread_para_on_ethnocide=True)\n",
    "# use the added Leviathan agricultural and paradigm spread models\n",
    "params = params._replace(icono=True)\n",
    "# Use simple contagion-style spread? 'Perfect' or 'FutureDiscounted'\n",
    "# else None use feedback \"structuring structure\" style 'Icono'\n",
    "params = params._replace(contagion=None)\n",
    "\n",
    "params = params._replace(num_icono_loops=2)\n",
    "params = params._replace(workrate_change=0.1)\n",
    "params = params._replace(threshold=4)\n",
    "params = params._replace(mut_amount=9)\n",
    "params = params._replace(mutation_rate=0.0125)\n",
    "\n",
    "world = World.from_file(project_dir+'/data/old_world.yml', params)\n",
    "\n",
    "#SIMULATION (for power law testing)\n",
    "max_polity_sizes = simulation(world, 1)\n",
    "#print (max_polity_sizes)"
   ]
  },
  {
   "cell_type": "code",
   "execution_count": 4,
   "metadata": {},
   "outputs": [
    {
     "data": {
      "image/png": "[encoded data removed]",
      "text/plain": [
       "<Figure size 360x360 with 1 Axes>"
      ]
     },
     "metadata": {
      "needs_background": "light"
     },
     "output_type": "display_data"
    }
   ],
   "source": [
    "#tester = [0,101, 1, 1, 2, 1, 1, 1, 30, 1, 1, 1, 1, 1, 1, 1, 1, 1, 1, 1, 1, 1, 1, 1, 1, 1, 1, 1, 1, 2, 2, 3, 1, 2, 1, 1, 1, 1, 1, 1, 1, 5, 2, 1, 1, 1, 1, 1, 1, 2, 1, 1, 1, 1, 1, 1, 1, 1, 1, 1, 1, 1, 1, 1, 1, 1, 1, 1, 1, 1, 1, 1, 1, 1, 1, 1, 1, 1, 2, 1, 3, 5, 14, 21, 59, 2, 1, 1, 1, 1, 2, 2, 2, 1, 1, 1, 1, 1, 1, 1, 1, 1, 1, 1, 1, 1, 1, 1, 1, 1, 2, 1, 1, 1, 1, 4, 1, 1, 1, 1, 1, 1, 1, 2, 8, 1, 1, 5, 1, 1, 1, 1, 1, 1, 1, 1, 1, 1, 1, 1, 1, 1, 1, 1, 1, 1, 1, 1, 1, 103, 1, 1, 31, 2, 49, 1, 1, 8, 1, 3, 1, 3, 1, 1, 1, 18, 1, 1, 1, 1, 1, 1, 2, 1, 2, 2, 1, 1, 1, 1, 1, 1, 1, 10, 1, 13, 75, 7, 12, 6, 2, 1, 1, 1, 1, 1, 1, 1, 1, 1, 1, 1, 2, 5, 1, 1, 1, 4, 2, 3, 2, 1, 1, 1, 8, 51, 36, 2, 11, 20, 35, 1, 1, 1, 3, 1, 1, 1, 1, 1, 1, 1, 1, 6, 1, 1, 1, 1, 1, 2, 1, 2, 3, 1, 1, 1, 1, 1, 2, 1, 1, 1, 3, 4, 1, 1, 1, 1, 1, 1, 1, 1, 1, 1, 1, 1, 1, 1, 1, 1, 1, 1, 1, 1, 1, 1, 1, 1, 2, 1, 1, 1, 1, 1, 4, 1, 2, 1, 65, 8, 1, 1, 1, 1, 1, 1, 1, 1, 1, 1, 1, 1, 1, 1, 5, 1, 1, 1, 1, 1, 1, 2, 1, 1, 1, 1, 1, 1, 1, 2, 1, 1, 1, 1, 1, 1, 1, 1, 1, 1, 2, 1, 1, 1, 1]\n",
    "#analysis.logLogHistogramOut(tester, 'OW + Lev', bin_multiplier=1.8)\n",
    "\n",
    "analysis.logLogHistogramOut(max_polity_sizes, 'OW + Lev', bin_multiplier=1.8)"
   ]
  },
  {
   "cell_type": "markdown",
   "metadata": {
    "tags": []
   },
   "source": [
    "### Old World simulations (original model without Leviathan)"
   ]
  },
  {
   "cell_type": "code",
   "execution_count": 5,
   "metadata": {},
   "outputs": [
    {
     "name": "stdout",
     "output_type": "stream",
     "text": [
      "simulation:  1\tstep:  500\n",
      "simulation:  1\tstep: 1000\n",
      "simulation:  1\tstep: 1500\n"
     ]
    }
   ],
   "source": [
    "world = World.from_file(project_dir+'/data/old_world.yml', default_parameters)\n",
    "\n",
    "#SIMULATION (for power law testing)\n",
    "max_polity_sizes = simulation(world, 1)\n",
    "#print (max_polity_sizes)"
   ]
  },
  {
   "cell_type": "code",
   "execution_count": 6,
   "metadata": {},
   "outputs": [
    {
     "data": {
      "image/png": "[encoded data removed]",
      "text/plain": [
       "<Figure size 360x360 with 1 Axes>"
      ]
     },
     "metadata": {
      "needs_background": "light"
     },
     "output_type": "display_data"
    }
   ],
   "source": [
    "analysis.logLogHistogramOut(max_polity_sizes, 'OW only', bin_multiplier=1.8)"
   ]
  },
  {
   "cell_type": "code",
   "execution_count": null,
   "metadata": {},
   "outputs": [],
   "source": []
  }
 ],
 "metadata": {
  "kernelspec": {
   "display_name": "Python 3 (ipykernel)",
   "language": "python",
   "name": "python3"
  },
  "language_info": {
   "codemirror_mode": {
    "name": "ipython",
    "version": 3
   },
   "file_extension": ".py",
   "mimetype": "text/x-python",
   "name": "python",
   "nbconvert_exporter": "python",
   "pygments_lexer": "ipython3",
   "version": "3.9.6"
  }
 },
 "nbformat": 4,
 "nbformat_minor": 4
}
