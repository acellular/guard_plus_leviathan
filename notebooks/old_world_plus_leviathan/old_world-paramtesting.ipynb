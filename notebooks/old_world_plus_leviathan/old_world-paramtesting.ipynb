{
 "cells": [
  {
   "cell_type": "markdown",
   "metadata": {
    "tags": []
   },
   "source": [
    "# Old World + Leviathan, parameter testing\n",
    "\n"
   ]
  },
  {
   "cell_type": "code",
   "execution_count": 1,
   "metadata": {},
   "outputs": [],
   "source": [
    "# Add the project base directory to the path\n",
    "import os\n",
    "import sys\n",
    "project_dir = os.path.abspath('../../')\n",
    "sys.path.insert(0, project_dir)\n",
    "# Import GUARD\n",
    "from guard import World, analysis, default_parameters\n",
    "import copy"
   ]
  },
  {
   "cell_type": "code",
   "execution_count": 2,
   "metadata": {},
   "outputs": [],
   "source": [
    "def simulation(world, n_sim):\n",
    "    imperial_density = []\n",
    "    \n",
    "    for sim in range(n_sim):\n",
    "        world.reset()\n",
    "        imperial_density.append(analysis.ImperialDensity(world))\n",
    "        for step in range(1500):\n",
    "            world.step()\n",
    "            imperial_density[sim].sample()\n",
    "            #if (world.step_number)%100 == 0:\n",
    "                #print('simulation: {:2d}\\tstep: {:4d}'.format(sim+1,world.step_number))\n",
    "                #ANALYSIS WHILE RUNNING\n",
    "                #analysis.plot_ultrasocietal_traits(world)\n",
    "                #analysis.plot_yields(world)\n",
    "                #analysis.plot_depletion(world)\n",
    "                #analysis.plot_comfort(world)\n",
    "                #analysis.plot_expectations(world)\n",
    "                #analysis.plot_paradigms(world)\n",
    "            \n",
    "    return imperial_density"
   ]
  },
  {
   "cell_type": "code",
   "execution_count": 1,
   "metadata": {
    "tags": []
   },
   "outputs": [
    {
     "ename": "NameError",
     "evalue": "name 'copy' is not defined",
     "output_type": "error",
     "traceback": [
      "\u001b[1;31m---------------------------------------------------------------------------\u001b[0m",
      "\u001b[1;31mNameError\u001b[0m                                 Traceback (most recent call last)",
      "Input \u001b[1;32mIn [1]\u001b[0m, in \u001b[0;36m<cell line: 1>\u001b[1;34m()\u001b[0m\n\u001b[1;32m----> 1\u001b[0m params \u001b[38;5;241m=\u001b[39m \u001b[43mcopy\u001b[49m\u001b[38;5;241m.\u001b[39mdeepcopy(default_parameters)\n\u001b[0;32m      2\u001b[0m params \u001b[38;5;241m=\u001b[39m params\u001b[38;5;241m.\u001b[39m_replace(spread_para_on_ethnocide\u001b[38;5;241m=\u001b[39m\u001b[38;5;28;01mTrue\u001b[39;00m)\n\u001b[0;32m      3\u001b[0m params \u001b[38;5;241m=\u001b[39m params\u001b[38;5;241m.\u001b[39m_replace(icono\u001b[38;5;241m=\u001b[39m\u001b[38;5;28;01mTrue\u001b[39;00m)\n",
      "\u001b[1;31mNameError\u001b[0m: name 'copy' is not defined"
     ]
    }
   ],
   "source": [
    "params = copy.deepcopy(default_parameters)\n",
    "params = params._replace(spread_para_on_ethnocide=True)\n",
    "params = params._replace(icono=True)\n",
    "    \n",
    "highest_r = 0\n",
    "params_best = params\n",
    "test_num = 0\n",
    "\n",
    "print('Test Num,Sensitivity,Mutation Rate,Mutation Amount,Threshold,Workrate Change,Num Icono Loops,r 1500BC-500BC,r 500BC-500AD,r 500AD-1500AD,Mean r')\n",
    "\n",
    "#for i in range(3):\n",
    "params = params._replace(mutation_rate=default_parameters.mutation_rate)\n",
    "for i in range(5):\n",
    "    params = params._replace(mut_amount=default_parameters.mut_amount)\n",
    "    for i in range(3):\n",
    "        params = params._replace(threshold=default_parameters.threshold)\n",
    "        for i in range(4):\n",
    "            params = params._replace(workrate_change=default_parameters.workrate_change)\n",
    "            for i in range(3):\n",
    "                params = params._replace(num_icono_loops=default_parameters.num_icono_loops)\n",
    "                for i in range(3):\n",
    "\n",
    "                    world = World.from_file(project_dir+'/data/old_world.yml', params)\n",
    "                    imperial_density = simulation(world, 1)\n",
    "                    historical = analysis.HistoricalImperialDensity(world, data_file=project_dir+'/data/imperial_density_data.pkl')    \n",
    "                    mean_impd = analysis.ImperialDensity.mean(imperial_density)\n",
    "\n",
    "                    #mean_impd.plot_all()\n",
    "                    mean_r, BC_r,BCAD_r,AD_r = historical.correlate(mean_impd, verbose=False)\n",
    "\n",
    "                    if mean_r > highest_r:\n",
    "                        highest_r = mean_r\n",
    "                        params_best = params\n",
    "                    \n",
    "                    print (f'Test {test_num},{params.sensitivity},{params.mutation_rate},{params.mut_amount},{params.threshold},{params.workrate_change},{params.num_icono_loops},{BC_r},{BCAD_r},{AD_r},{mean_r}')\n",
    "\n",
    "                    test_num += 1\n",
    "\n",
    "                    params = params._replace(num_icono_loops=params.num_icono_loops*2)\n",
    "                params = params._replace(workrate_change=params.workrate_change*10)\n",
    "            params = params._replace(threshold=params.threshold*2)\n",
    "        params = params._replace(mut_amount=params.mut_amount*3)\n",
    "    params = params._replace(mutation_rate=params.mutation_rate*5)\n",
    "    #params = params._replace(sensitivity=params.sensitivity*5)\n",
    "    \n",
    "print ('---------********BEST PARAMETERS: ', params_best)\n",
    "print ('HIGHEST MEAN r: ', highest_r)"
   ]
  },
  {
   "cell_type": "code",
   "execution_count": null,
   "metadata": {},
   "outputs": [],
   "source": []
  }
 ],
 "metadata": {
  "kernelspec": {
   "display_name": "Python 3 (ipykernel)",
   "language": "python",
   "name": "python3"
  },
  "language_info": {
   "codemirror_mode": {
    "name": "ipython",
    "version": 3
   },
   "file_extension": ".py",
   "mimetype": "text/x-python",
   "name": "python",
   "nbconvert_exporter": "python",
   "pygments_lexer": "ipython3",
   "version": "3.9.6"
  }
 },
 "nbformat": 4,
 "nbformat_minor": 4
}
