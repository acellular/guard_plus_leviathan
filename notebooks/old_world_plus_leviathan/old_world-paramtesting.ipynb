{
 "cells": [
  {
   "cell_type": "markdown",
   "metadata": {
    "tags": []
   },
   "source": [
    "# Old World + Leviathan, parameter testing\n",
    "\n"
   ]
  },
  {
   "cell_type": "code",
   "execution_count": 1,
   "metadata": {},
   "outputs": [],
   "source": [
    "# Add the project base directory to the path\n",
    "import os\n",
    "import sys\n",
    "project_dir = os.path.abspath('../../')\n",
    "sys.path.insert(0, project_dir)\n",
    "# Import GUARD\n",
    "from guard import World, analysis, default_parameters\n",
    "import copy"
   ]
  },
  {
   "cell_type": "code",
   "execution_count": 2,
   "metadata": {},
   "outputs": [],
   "source": [
    "def simulation(world, n_sim):\n",
    "    imperial_density = []\n",
    "    \n",
    "    for sim in range(n_sim):\n",
    "        world.reset()\n",
    "        imperial_density.append(analysis.ImperialDensity(world))\n",
    "        for step in range(1500):\n",
    "            world.step()\n",
    "            imperial_density[sim].sample()\n",
    "            #if (world.step_number)%100 == 0:\n",
    "                #print('simulation: {:2d}\\tstep: {:4d}'.format(sim+1,world.step_number))\n",
    "                #ANALYSIS WHILE RUNNING\n",
    "                #analysis.plot_ultrasocietal_traits(world)\n",
    "                #analysis.plot_yields(world)\n",
    "                #analysis.plot_depletion(world)\n",
    "                #analysis.plot_comfort(world)\n",
    "                #analysis.plot_expectations(world)\n",
    "                #analysis.plot_paradigms(world)\n",
    "            \n",
    "    return imperial_density"
   ]
  },
  {
   "cell_type": "code",
   "execution_count": 3,
   "metadata": {
    "tags": []
   },
   "outputs": [
    {
     "name": "stdout",
     "output_type": "stream",
     "text": [
      "Test Num,Sensitivity,Mutation Rate,Mutation Amount,Threshold,Workrate Change,Num Icono Loops,r 1500BC-500BC,r 500BC-500AD,r 500AD-1500AD,Mean r\n"
     ]
    },
    {
     "name": "stderr",
     "output_type": "stream",
     "text": [
      "c:\\users\\mchlt\\appdata\\local\\programs\\python\\python39\\lib\\site-packages\\scipy\\stats\\_stats_mstats_common.py:170: RuntimeWarning: invalid value encountered in double_scalars\n",
      "  slope = ssxym / ssxm\n",
      "c:\\users\\mchlt\\appdata\\local\\programs\\python\\python39\\lib\\site-packages\\scipy\\stats\\_stats_mstats_common.py:187: RuntimeWarning: divide by zero encountered in double_scalars\n",
      "  slope_stderr = np.sqrt((1 - r**2) * ssym / ssxm / df)\n",
      "c:\\users\\mchlt\\appdata\\local\\programs\\python\\python39\\lib\\site-packages\\scipy\\stats\\_stats_mstats_common.py:194: RuntimeWarning: invalid value encountered in double_scalars\n",
      "  intercept_stderr = slope_stderr * np.sqrt(ssxm + xmean**2)\n"
     ]
    },
    {
     "name": "stdout",
     "output_type": "stream",
     "text": [
      "Test 0,0.05,0.0001,1,1,0.001,1,0.0,0.41858805336747934,0.4321403097954049,0.28357612105429475\n",
      "Test 1,0.05,0.0001,1,1,0.001,2,0.5316341127712202,0.6085118612804445,0.5074141747998411,0.5491867162838352\n",
      "Test 2,0.05,0.0001,1,1,0.001,4,0.5377892824721449,0.6364044281731002,0.44769171339551267,0.5406284746802527\n",
      "Test 3,0.05,0.0001,1,1,0.01,1,0.22443625041683796,0.3697290854682368,0.4758360042238026,0.35666711336962575\n",
      "Test 4,0.05,0.0001,1,1,0.01,2,0.46497539620502826,0.6315883006230354,0.5369686410774862,0.54451077930185\n",
      "Test 5,0.05,0.0001,1,1,0.01,4,0.41058958141845925,0.5562044479863522,0.4378504300147237,0.4682148198065117\n",
      "Test 6,0.05,0.0001,1,1,0.1,1,0.2764856872384825,0.39379818676034384,0.3627028958516502,0.34432892328349224\n",
      "Test 7,0.05,0.0001,1,1,0.1,2,0.5535804441293658,0.6142180614531625,0.4698465201279932,0.5458816752368404\n"
     ]
    },
    {
     "ename": "KeyboardInterrupt",
     "evalue": "",
     "output_type": "error",
     "traceback": [
      "\u001b[1;31m---------------------------------------------------------------------------\u001b[0m",
      "\u001b[1;31mKeyboardInterrupt\u001b[0m                         Traceback (most recent call last)",
      "Input \u001b[1;32mIn [3]\u001b[0m, in \u001b[0;36m<cell line: 13>\u001b[1;34m()\u001b[0m\n\u001b[0;32m     21\u001b[0m \u001b[38;5;28;01mfor\u001b[39;00m i \u001b[38;5;129;01min\u001b[39;00m \u001b[38;5;28mrange\u001b[39m(\u001b[38;5;241m3\u001b[39m):\n\u001b[0;32m     23\u001b[0m     world \u001b[38;5;241m=\u001b[39m World\u001b[38;5;241m.\u001b[39mfrom_file(project_dir\u001b[38;5;241m+\u001b[39m\u001b[38;5;124m'\u001b[39m\u001b[38;5;124m/data/old_world.yml\u001b[39m\u001b[38;5;124m'\u001b[39m, params)\n\u001b[1;32m---> 24\u001b[0m     imperial_density \u001b[38;5;241m=\u001b[39m \u001b[43msimulation\u001b[49m\u001b[43m(\u001b[49m\u001b[43mworld\u001b[49m\u001b[43m,\u001b[49m\u001b[43m \u001b[49m\u001b[38;5;241;43m1\u001b[39;49m\u001b[43m)\u001b[49m\n\u001b[0;32m     25\u001b[0m     historical \u001b[38;5;241m=\u001b[39m analysis\u001b[38;5;241m.\u001b[39mHistoricalImperialDensity(world, data_file\u001b[38;5;241m=\u001b[39mproject_dir\u001b[38;5;241m+\u001b[39m\u001b[38;5;124m'\u001b[39m\u001b[38;5;124m/data/imperial_density_data.pkl\u001b[39m\u001b[38;5;124m'\u001b[39m)    \n\u001b[0;32m     26\u001b[0m     mean_impd \u001b[38;5;241m=\u001b[39m analysis\u001b[38;5;241m.\u001b[39mImperialDensity\u001b[38;5;241m.\u001b[39mmean(imperial_density)\n",
      "Input \u001b[1;32mIn [2]\u001b[0m, in \u001b[0;36msimulation\u001b[1;34m(world, n_sim)\u001b[0m\n\u001b[0;32m      6\u001b[0m imperial_density\u001b[38;5;241m.\u001b[39mappend(analysis\u001b[38;5;241m.\u001b[39mImperialDensity(world))\n\u001b[0;32m      7\u001b[0m \u001b[38;5;28;01mfor\u001b[39;00m step \u001b[38;5;129;01min\u001b[39;00m \u001b[38;5;28mrange\u001b[39m(\u001b[38;5;241m1500\u001b[39m):\n\u001b[1;32m----> 8\u001b[0m     \u001b[43mworld\u001b[49m\u001b[38;5;241;43m.\u001b[39;49m\u001b[43mstep\u001b[49m\u001b[43m(\u001b[49m\u001b[43m)\u001b[49m\n\u001b[0;32m      9\u001b[0m     imperial_density[sim]\u001b[38;5;241m.\u001b[39msample()\n\u001b[0;32m     10\u001b[0m     \u001b[38;5;66;03m#if (world.step_number)%100 == 0:\u001b[39;00m\n\u001b[0;32m     11\u001b[0m         \u001b[38;5;66;03m#print('simulation: {:2d}\\tstep: {:4d}'.format(sim+1,world.step_number))\u001b[39;00m\n\u001b[0;32m     12\u001b[0m         \u001b[38;5;66;03m#ANALYSIS WHILE RUNNING\u001b[39;00m\n\u001b[1;32m   (...)\u001b[0m\n\u001b[0;32m     17\u001b[0m         \u001b[38;5;66;03m#analysis.plot_expectations(world)\u001b[39;00m\n\u001b[0;32m     18\u001b[0m         \u001b[38;5;66;03m#analysis.plot_paradigms(world)\u001b[39;00m\n",
      "File \u001b[1;32mC:\\STORAGE\\My Documents\\CODE\\guard_plus_leviathan\\guard\\world.py:350\u001b[0m, in \u001b[0;36mstep\u001b[1;34m(self, attack_callback)\u001b[0m\n\u001b[0;32m    344\u001b[0m \u001b[38;5;28;01mdef\u001b[39;00m \u001b[38;5;21mstep\u001b[39m(\u001b[38;5;28mself\u001b[39m, attack_callback\u001b[38;5;241m=\u001b[39m\u001b[38;5;28;01mNone\u001b[39;00m):\n\u001b[0;32m    345\u001b[0m     \u001b[38;5;124;03m\"\"\"\u001b[39;00m\n\u001b[0;32m    346\u001b[0m \u001b[38;5;124;03m    Conduct a simulation step\u001b[39;00m\n\u001b[0;32m    347\u001b[0m \n\u001b[0;32m    348\u001b[0m \u001b[38;5;124;03m    Args:\u001b[39;00m\n\u001b[0;32m    349\u001b[0m \u001b[38;5;124;03m        attack_callback (function, default=None): A callback function\u001b[39;00m\n\u001b[1;32m--> 350\u001b[0m \u001b[38;5;124;03m            invoked if an attack is successful. Used to record attack\u001b[39;00m\n\u001b[0;32m    351\u001b[0m \u001b[38;5;124;03m            events.\u001b[39;00m\n\u001b[0;32m    352\u001b[0m \u001b[38;5;124;03m    \"\"\"\u001b[39;00m\n\u001b[0;32m    353\u001b[0m     \u001b[38;5;66;03m# Attacks\u001b[39;00m\n\u001b[0;32m    354\u001b[0m     \u001b[38;5;28mself\u001b[39m\u001b[38;5;241m.\u001b[39mattack(attack_callback)\n",
      "File \u001b[1;32mC:\\STORAGE\\My Documents\\CODE\\guard_plus_leviathan\\guard\\world.py:291\u001b[0m, in \u001b[0;36mcultural_shift\u001b[1;34m(self)\u001b[0m\n\u001b[0;32m    288\u001b[0m \u001b[38;5;28;01mdef\u001b[39;00m \u001b[38;5;21mcultural_shift\u001b[39m(\u001b[38;5;28mself\u001b[39m):\n\u001b[0;32m    289\u001b[0m     \u001b[38;5;124;03m\"\"\"\u001b[39;00m\n\u001b[0;32m    290\u001b[0m \u001b[38;5;124;03m    Attempt cultural shift in all communities.\u001b[39;00m\n\u001b[1;32m--> 291\u001b[0m \u001b[38;5;124;03m    \"\"\"\u001b[39;00m\n\u001b[0;32m    292\u001b[0m     \u001b[38;5;28;01mfor\u001b[39;00m tile \u001b[38;5;129;01min\u001b[39;00m \u001b[38;5;28mself\u001b[39m\u001b[38;5;241m.\u001b[39mtiles:\n\u001b[0;32m    293\u001b[0m         \u001b[38;5;28;01mif\u001b[39;00m tile\u001b[38;5;241m.\u001b[39mterrain\u001b[38;5;241m.\u001b[39mpolity_forming:\n",
      "File \u001b[1;32mC:\\STORAGE\\My Documents\\CODE\\guard_plus_leviathan\\guard\\community.py:398\u001b[0m, in \u001b[0;36mCommunity.cultural_shift\u001b[1;34m(self, params, step_number)\u001b[0m\n\u001b[0;32m    396\u001b[0m \u001b[38;5;28;01mif\u001b[39;00m (params\u001b[38;5;241m.\u001b[39micono \u001b[38;5;129;01mand\u001b[39;00m \u001b[38;5;28mself\u001b[39m\u001b[38;5;241m.\u001b[39mis_active(step_number)):\n\u001b[0;32m    397\u001b[0m     \u001b[38;5;28;01mfor\u001b[39;00m i \u001b[38;5;129;01min\u001b[39;00m \u001b[38;5;28mrange\u001b[39m(\u001b[38;5;28mself\u001b[39m\u001b[38;5;241m.\u001b[39mparams\u001b[38;5;241m.\u001b[39mnum_icono_loops):\n\u001b[1;32m--> 398\u001b[0m         \u001b[38;5;28;43mself\u001b[39;49m\u001b[38;5;241;43m.\u001b[39;49m\u001b[43magri\u001b[49m\u001b[38;5;241;43m.\u001b[39;49m\u001b[43mRun\u001b[49m\u001b[43m(\u001b[49m\u001b[43m)\u001b[49m\n\u001b[0;32m    399\u001b[0m         \u001b[38;5;28mself\u001b[39m\u001b[38;5;241m.\u001b[39micono\u001b[38;5;241m.\u001b[39mRun()\n\u001b[0;32m    402\u001b[0m     \u001b[38;5;28;01mfor\u001b[39;00m index, trait \u001b[38;5;129;01min\u001b[39;00m \u001b[38;5;28menumerate\u001b[39m(\u001b[38;5;28mself\u001b[39m\u001b[38;5;241m.\u001b[39multrasocietal_traits):\n",
      "File \u001b[1;32mC:\\STORAGE\\My Documents\\CODE\\guard_plus_leviathan\\guard\\Leviathan\\Agriculture.py:26\u001b[0m, in \u001b[0;36mAgriculture.Run\u001b[1;34m(self)\u001b[0m\n\u001b[0;32m     24\u001b[0m \u001b[38;5;28;01mfor\u001b[39;00m i \u001b[38;5;129;01min\u001b[39;00m \u001b[38;5;28mrange\u001b[39m(\u001b[38;5;28mlen\u001b[39m(\u001b[38;5;28mself\u001b[39m\u001b[38;5;241m.\u001b[39mcommunity\u001b[38;5;241m.\u001b[39mparadigm\u001b[38;5;241m.\u001b[39myield_rules)):\n\u001b[0;32m     25\u001b[0m     \u001b[38;5;28mself\u001b[39m\u001b[38;5;241m.\u001b[39myields \u001b[38;5;241m+\u001b[39m\u001b[38;5;241m=\u001b[39m ((\u001b[38;5;28mself\u001b[39m\u001b[38;5;241m.\u001b[39mcommunity\u001b[38;5;241m.\u001b[39mparadigm\u001b[38;5;241m.\u001b[39myield_rules[i] \u001b[38;5;241m*\u001b[39m \u001b[38;5;28mself\u001b[39m\u001b[38;5;241m.\u001b[39mworkrate) \u001b[38;5;241m-\u001b[39m \u001b[38;5;28mself\u001b[39m\u001b[38;5;241m.\u001b[39mdepletion[i]) \u001b[38;5;241m*\u001b[39m lat_modify\n\u001b[1;32m---> 26\u001b[0m     \u001b[38;5;28mself\u001b[39m\u001b[38;5;241m.\u001b[39mdepletion[i] \u001b[38;5;241m+\u001b[39m\u001b[38;5;241m=\u001b[39m \u001b[38;5;28;43mself\u001b[39;49m\u001b[38;5;241;43m.\u001b[39;49m\u001b[43mcommunity\u001b[49m\u001b[38;5;241;43m.\u001b[39;49m\u001b[43mparadigm\u001b[49m\u001b[38;5;241;43m.\u001b[39;49m\u001b[43mdepletion_rules\u001b[49m[i] \u001b[38;5;241m*\u001b[39m \u001b[38;5;28mself\u001b[39m\u001b[38;5;241m.\u001b[39mworkrate\n\u001b[0;32m     27\u001b[0m     \u001b[38;5;66;03m#bounds\u001b[39;00m\n\u001b[0;32m     28\u001b[0m     \u001b[38;5;28;01mif\u001b[39;00m \u001b[38;5;28mself\u001b[39m\u001b[38;5;241m.\u001b[39mdepletion[i] \u001b[38;5;241m>\u001b[39m \u001b[38;5;241m1\u001b[39m:\n",
      "\u001b[1;31mKeyboardInterrupt\u001b[0m: "
     ]
    }
   ],
   "source": [
    "params = copy.deepcopy(default_parameters)\n",
    "params = params._replace(spread_para_on_ethnocide=True)\n",
    "params = params._replace(icono=True)\n",
    "    \n",
    "highest_r = 0\n",
    "params_best = params\n",
    "test_num = 0\n",
    "\n",
    "print('Test Num,Sensitivity,Mutation Rate,Mutation Amount,Threshold,Workrate Change,Num Icono Loops,r 1500BC-500BC,r 500BC-500AD,r 500AD-1500AD,Mean r')\n",
    "\n",
    "#for i in range(3):\n",
    "params = params._replace(mutation_rate=default_parameters.mutation_rate)\n",
    "for i in range(5):\n",
    "    params = params._replace(mut_amount=default_parameters.mut_amount)\n",
    "    for i in range(3):\n",
    "        params = params._replace(threshold=default_parameters.threshold)\n",
    "        for i in range(4):\n",
    "            params = params._replace(workrate_change=default_parameters.workrate_change)\n",
    "            for i in range(3):\n",
    "                params = params._replace(num_icono_loops=default_parameters.num_icono_loops)\n",
    "                for i in range(3):\n",
    "\n",
    "                    world = World.from_file(project_dir+'/data/old_world.yml', params)\n",
    "                    imperial_density = simulation(world, 1)\n",
    "                    historical = analysis.HistoricalImperialDensity(world, data_file=project_dir+'/data/imperial_density_data.pkl')    \n",
    "                    mean_impd = analysis.ImperialDensity.mean(imperial_density)\n",
    "\n",
    "                    #mean_impd.plot_all()\n",
    "                    mean_r, total_n, BC_r, BCAD_r, AD_r = historical.correlate(mean_impd, charts=False)\n",
    "\n",
    "                    if mean_r > highest_r:\n",
    "                        highest_r = mean_r\n",
    "                        params_best = params\n",
    "                    \n",
    "                    print (f'Test {test_num},{params.sensitivity},{params.mutation_rate},{params.mut_amount},{params.threshold},{params.workrate_change},{params.num_icono_loops},{BC_r},{BCAD_r},{AD_r},{mean_r}')\n",
    "\n",
    "                    test_num += 1\n",
    "\n",
    "                    params = params._replace(num_icono_loops=params.num_icono_loops*2)\n",
    "                params = params._replace(workrate_change=params.workrate_change*10)\n",
    "            params = params._replace(threshold=params.threshold*2)\n",
    "        params = params._replace(mut_amount=params.mut_amount*3)\n",
    "    params = params._replace(mutation_rate=params.mutation_rate*5)\n",
    "    #params = params._replace(sensitivity=params.sensitivity*5)\n",
    "    \n",
    "print ('---------********BEST PARAMETERS: ', params_best)\n",
    "print ('HIGHEST MEAN r: ', highest_r)"
   ]
  },
  {
   "cell_type": "code",
   "execution_count": null,
   "metadata": {},
   "outputs": [],
   "source": []
  }
 ],
 "metadata": {
  "kernelspec": {
   "display_name": "Python 3 (ipykernel)",
   "language": "python",
   "name": "python3"
  },
  "language_info": {
   "codemirror_mode": {
    "name": "ipython",
    "version": 3
   },
   "file_extension": ".py",
   "mimetype": "text/x-python",
   "name": "python",
   "nbconvert_exporter": "python",
   "pygments_lexer": "ipython3",
   "version": "3.9.6"
  }
 },
 "nbformat": 4,
 "nbformat_minor": 4
}
